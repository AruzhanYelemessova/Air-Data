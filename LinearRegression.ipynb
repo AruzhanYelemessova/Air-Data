{
  "nbformat": 4,
  "nbformat_minor": 0,
  "metadata": {
    "colab": {
      "provenance": []
    },
    "kernelspec": {
      "name": "python3",
      "display_name": "Python 3"
    },
    "language_info": {
      "name": "python"
    }
  },
  "cells": [
    {
      "cell_type": "code",
      "execution_count": null,
      "metadata": {
        "id": "LfQzTGzJu9eh"
      },
      "outputs": [],
      "source": [
        "import pandas as pd\n",
        "from sklearn.model_selection import train_test_split\n",
        "from sklearn.linear_model import LinearRegression\n",
        "import numpy as np\n",
        "import matplotlib.pyplot as plt\n",
        "df = pd.read_csv('Almaty_AQI.csv')\n",
        "df['date'] = pd.to_datetime(df['date'])\n",
        "df = df.set_index('date')\n",
        "\n",
        "X = np.array(pd.to_numeric(df.index).astype(int)).reshape(-1, 1)  # Convert date to numeric value\n",
        "y = df['AQI'].values\n",
        "model = LinearRegression()\n",
        "model.fit(X, y)\n",
        "\n",
        "future_dates = pd.date_range('2023-12-01', '2024-02-29')\n",
        "future_dates_numeric = np.array(pd.to_numeric(future_dates).astype(int)).reshape(-1, 1)\n",
        "future_aqi_predictions = model.predict(future_dates_numeric)\n",
        "future_df = pd.DataFrame({'date': future_dates, 'predicted_AQI': future_aqi_predictions})\n",
        "\n",
        "plt.figure(figsize=(12, 6))\n",
        "plt.plot(df.index, df['AQI'], label='Historical AQI')\n",
        "plt.plot(future_df['date'], future_df['predicted_AQI'], label='Predicted AQI', linestyle='dashed', color='red')\n",
        "plt.xlabel('Date')\n",
        "plt.ylabel('AQI')\n",
        "plt.title('Historical and Predicted AQI Values')\n",
        "plt.legend()\n",
        "plt.show()\n",
        "\n"
      ]
    }
  ]
}