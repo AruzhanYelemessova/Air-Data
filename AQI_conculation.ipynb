{
  "nbformat": 4,
  "nbformat_minor": 0,
  "metadata": {
    "colab": {
      "provenance": []
    },
    "kernelspec": {
      "name": "python3",
      "display_name": "Python 3"
    },
    "language_info": {
      "name": "python"
    }
  },
  "cells": [
    {
      "cell_type": "code",
      "execution_count": null,
      "metadata": {
        "id": "y2wFfH-TuiPJ"
      },
      "outputs": [],
      "source": [
        "import pandas as pd\n",
        "df = pd.read_csv('Almaty_avg.csv')\n",
        "aqi_breakpoints = {\n",
        "    'Good': (0, 50),\n",
        "    'Moderate': (51, 100),\n",
        "    'Unhealthy for Sensitive Groups': (101, 150),\n",
        "    'Unhealthy': (151, 200),\n",
        "    'Very Unhealthy': (201, 300),\n",
        "    'Hazardous': (301, 500)\n",
        "}\n",
        "\n",
        "def calculate_aqi(pm25_value):\n",
        "    pm25_breakpoints = [0, 12.0, 35.4, 55.4, 150.4, 250.4, 500.4]\n",
        "    aqi_breakpoints = [0, 50, 100, 150, 200, 300, 500]\n",
        "    for i in range(len(pm25_breakpoints) - 1):\n",
        "        if pm25_breakpoints[i] <= pm25_value <= pm25_breakpoints[i + 1]:\n",
        "            # Calculate AQI based on the breakpoint formula\n",
        "            aqi = ((aqi_breakpoints[i + 1] - aqi_breakpoints[i]) / (pm25_breakpoints[i + 1] - pm25_breakpoints[i])) * (pm25_value - pm25_breakpoints[i]) + aqi_breakpoints[i]\n",
        "            return int(round(aqi))\n",
        "\n",
        "df['AQI'] = df['value_avg'].apply(calculate_aqi)\n",
        "df['AQI Level'] = df['AQI'].apply(lambda x: next((level for level, (low, high) in aqi_breakpoints.items() if low <= x <= high), None))\n",
        "print(df)\n",
        "df.to_csv('Almaty_AQI.csv', index=False)\n"
      ]
    }
  ]
}